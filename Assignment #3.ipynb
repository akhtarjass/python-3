{
 "cells": [
  {
   "cell_type": "code",
   "execution_count": 13,
   "id": "2cd5dc0d",
   "metadata": {},
   "outputs": [
    {
     "name": "stdout",
     "output_type": "stream",
     "text": [
      "Twinkle, twinkle, little star,\n",
      "     How I wonder what you are!\n",
      "          Up above the world so high,\n",
      "          Like a diamond in the sky. \n",
      "Twinkle, twinkle, little star,\n",
      "     How I wonder what you are!\n"
     ]
    }
   ],
   "source": [
    "print(\"Twinkle, twinkle, little star,\\n     How I wonder what you are!\\n          Up above the world so high,\\n          Like a diamond in the sky. \\nTwinkle, twinkle, little star,\\n     How I wonder what you are!\")"
   ]
  },
  {
   "cell_type": "code",
   "execution_count": 18,
   "id": "3259e8ea",
   "metadata": {},
   "outputs": [
    {
     "name": "stdout",
     "output_type": "stream",
     "text": [
      "Python version\n",
      "3.8.8 (default, Apr 13 2021, 15:08:03) [MSC v.1916 64 bit (AMD64)]\n"
     ]
    }
   ],
   "source": [
    "import sys\n",
    "print(\"Python version\")\n",
    "print (sys.version)\n"
   ]
  },
  {
   "cell_type": "code",
   "execution_count": 39,
   "id": "ff3024f7",
   "metadata": {},
   "outputs": [
    {
     "name": "stdout",
     "output_type": "stream",
     "text": [
      "Date: 2021-10-24\n",
      "Time: 12:32:48\n"
     ]
    }
   ],
   "source": [
    "import datetime\n",
    "now = datetime.datetime.now()\n",
    "\n",
    "print (now.strftime(\"Date: %Y-%m-%d\\nTime: %H:%M:%S\"))"
   ]
  },
  {
   "cell_type": "code",
   "execution_count": 2,
   "id": "0c9adca1",
   "metadata": {},
   "outputs": [
    {
     "name": "stdout",
     "output_type": "stream",
     "text": [
      "enter you first name: akhtar\n",
      "enter you last name: hussain\n",
      "rathka niassuh\n"
     ]
    }
   ],
   "source": [
    "f_name = input(\"enter you first name: \")[::-1]\n",
    "l_name = input(\"enter you last name: \")[::-1]\n",
    "\n",
    "print(f_name+\" \"+l_name)"
   ]
  },
  {
   "cell_type": "code",
   "execution_count": 4,
   "id": "125a4829",
   "metadata": {
    "scrolled": true
   },
   "outputs": [
    {
     "name": "stdout",
     "output_type": "stream",
     "text": [
      "type your first value56\n",
      "type your second value67\n",
      "123\n"
     ]
    }
   ],
   "source": [
    "num1 = int(input(\"type your first value\"))\n",
    "num2 = int(input(\"type your second value\"))\n",
    "num = num1+num2;\n",
    "print(num)"
   ]
  },
  {
   "cell_type": "code",
   "execution_count": 6,
   "id": "b2af95dc",
   "metadata": {},
   "outputs": [
    {
     "name": "stdout",
     "output_type": "stream",
     "text": [
      "Enter your value89\n",
      "Enter your value78\n",
      "Enter your value96\n",
      "Enter your value94\n",
      "Enter your value80\n",
      "GRADE A+\n"
     ]
    }
   ],
   "source": [
    "isl = int(input(\"Enter your value\"));\n",
    "eng = int(input(\"Enter your value\"));\n",
    "math = int(input(\"Enter your value\"));\n",
    "soc = int(input(\"Enter your value\"));\n",
    "sci = int(input(\"Enter your value\"));\n",
    "total= 500;\n",
    "percent = (isl+eng+math+soc+sci)/total*100;\n",
    "if percent < 100 and percent >= 80:\n",
    "    print (\"GRADE A+\");\n",
    "elif percent < 80 and percent >= 70:\n",
    "    print (\"GRADE A\");\n",
    "elif percent < 70 and percent >= 60:\n",
    "    print (\"GRADE B\");\n",
    "elif percent < 60 and percent >= 50:\n",
    "    print (\"GRADE C\");\n",
    "elif percent < 50 and percent >= 60:\n",
    "    print (\"GRADE D\");\n",
    "elif percent < 50  and percent >= 40:\n",
    "    print (\"GRADE E\");\n",
    "elif percent < 33 and percent >= 80:\n",
    "    print (\"GRADE F\");"
   ]
  },
  {
   "cell_type": "code",
   "execution_count": 1,
   "id": "13ed684d",
   "metadata": {},
   "outputs": [
    {
     "name": "stdout",
     "output_type": "stream",
     "text": [
      "Enter a number: 45\n",
      "45 is Odd\n"
     ]
    }
   ],
   "source": [
    "num = int(input(\"Enter a number: \"))\n",
    "if (num % 2) == 0:\n",
    "   print(\"{0} is Even\".format(num))\n",
    "else:\n",
    "   print(\"{0} is Odd\".format(num))"
   ]
  },
  {
   "cell_type": "code",
   "execution_count": 1,
   "id": "8814225e",
   "metadata": {},
   "outputs": [
    {
     "name": "stdout",
     "output_type": "stream",
     "text": [
      "7\n"
     ]
    }
   ],
   "source": [
    "ListName = [\"Hello\", \"World\", 1, 2, 3,4,5]\n",
    "print ( len(ListName))"
   ]
  },
  {
   "cell_type": "code",
   "execution_count": null,
   "id": "9e8f28b9",
   "metadata": {},
   "outputs": [],
   "source": []
  }
 ],
 "metadata": {
  "kernelspec": {
   "display_name": "Python 3",
   "language": "python",
   "name": "python3"
  },
  "language_info": {
   "codemirror_mode": {
    "name": "ipython",
    "version": 3
   },
   "file_extension": ".py",
   "mimetype": "text/x-python",
   "name": "python",
   "nbconvert_exporter": "python",
   "pygments_lexer": "ipython3",
   "version": "3.8.8"
  }
 },
 "nbformat": 4,
 "nbformat_minor": 5
}
